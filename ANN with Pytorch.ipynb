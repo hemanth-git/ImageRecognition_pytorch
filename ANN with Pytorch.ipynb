{
 "cells": [
  {
   "cell_type": "markdown",
   "metadata": {},
   "source": [
    "## Artificial Neural Network (ANN)\n",
    "\n",
    "Logistic regression is good at classification but when complexity(non linearity) increases, the accuracy of model decreases.\n",
    "\n",
    "#### Steps of ANN:\n",
    "1. Import Libraries\n",
    "    In order to show you, I import again but we actually imported them at previous parts.\n",
    "2. Prepare Dataset\n",
    "    Totally same with previous part(logistic regression).\n",
    "    We use same dataset so we only need train_loader and test_loader.\n",
    "    We use same batch size, epoch and iteration numbers.\n",
    "3. Create ANN Model\n",
    "    We add 3 hidden layers.\n",
    "    We use ReLU, Tanh and ELU activation functions for diversity.\n",
    "4. Instantiate Model Class\n",
    "    input_dim = 28*28 # size of image pxpx\n",
    "    output_dim = 10 # labels 0,1,2,3,4,5,6,7,8,9\n",
    "    Hidden layer dimension is 150. I only choose it as 150 there is no reason. Actually hidden layer dimension is hyperparameter and it should be chosen and tuned. You can try different values for hidden layer dimension and observe the results.\n",
    "    create model\n",
    "5. Instantiate Loss Class\n",
    "    Cross entropy loss\n",
    "    It also has softmax(logistic function) in it.\n",
    "6. Instantiate Optimizer Class\n",
    "    SGD Optimizer\n",
    "7. Traning the Model\n",
    "8. Prediction\n",
    "9. As a result, as you can see from plot, while loss decreasing, accuracy is increasing and our model is learning(training)."
   ]
  },
  {
   "cell_type": "code",
   "execution_count": 1,
   "metadata": {},
   "outputs": [],
   "source": [
    "# importing librarires\n",
    "import torch\n",
    "import torch.nn as nn\n",
    "import torchvision.transforms as transforms\n",
    "from torch.autograd import Variable\n",
    "import numpy as np\n",
    "import pandas as pd\n",
    "from sklearn.model_selection import train_test_split\n",
    "import matplotlib.pyplot as plt"
   ]
  },
  {
   "cell_type": "code",
   "execution_count": 3,
   "metadata": {},
   "outputs": [],
   "source": [
    "# Preparing the data set\n",
    "\n",
    "# Prepare the dataset\n",
    "traincsv=pd.read_csv(\"D:\\\\Data Science\\\\DeepLearning\\\\all\\\\train.csv\",dtype = np.float32)\n",
    "\n",
    "#splitting the data in to features(X) and labels(Y)\n",
    "\n",
    "targets_numpy = traincsv.label.values\n",
    "features_numpy = traincsv.loc[:,train.columns != \"label\"].values/255                # normalizing the data\n",
    "features_train, features_test, targets_train, targets_test = train_test_split(features_numpy,\n",
    "                                                                             targets_numpy,\n",
    "                                                                             test_size = 0.2,\n",
    "                                                                             random_state = 42) "
   ]
  },
  {
   "cell_type": "code",
   "execution_count": 4,
   "metadata": {},
   "outputs": [],
   "source": [
    "# converting the numpy data frame to features and target Tensors\n",
    "\n",
    "featuresTrain = torch.from_numpy(features_train)\n",
    "targetsTrain = torch.from_numpy(targets_train).type(torch.LongTensor) # data type is long\n",
    "\n",
    "# create feature and targets tensor for test set.\n",
    "featuresTest = torch.from_numpy(features_test)\n",
    "targetsTest = torch.from_numpy(targets_test).type(torch.LongTensor)"
   ]
  },
  {
   "cell_type": "code",
   "execution_count": 5,
   "metadata": {},
   "outputs": [],
   "source": [
    "# batch size and iterations\n",
    "batch_size = 100\n",
    "n_iters = 10000\n",
    "num_epochs = n_iters / (len(features_train) / batch_size)\n",
    "num_epochs = int(num_epochs)"
   ]
  },
  {
   "cell_type": "code",
   "execution_count": 6,
   "metadata": {},
   "outputs": [],
   "source": [
    "# Tensor Dataset and Tensor data loader\n",
    "\n",
    "train = torch.utils.data.TensorDataset(featuresTrain,targetsTrain)\n",
    "test = torch.utils.data.TensorDataset(featuresTest,targetsTest)\n",
    "\n",
    "# data loader\n",
    "train_loader = torch.utils.data.DataLoader(train, batch_size = batch_size, shuffle = False)\n",
    "test_loader = torch.utils.data.DataLoader(test, batch_size = batch_size, shuffle = False)"
   ]
  },
  {
   "cell_type": "code",
   "execution_count": 7,
   "metadata": {},
   "outputs": [],
   "source": [
    "class ANNModel(nn.Module):\n",
    "    def __init__(self,input_dim,hidden_dim,output_dim):\n",
    "        super(ANNModel,self).__init__()\n",
    "        \n",
    "        #linear function1  784 inputs ->100 outputs\n",
    "        self.fc1=nn.Linear(input_dim,hidden_dim)\n",
    "        # non-linear function 1\n",
    "        self.relu1 = nn.ReLU()\n",
    "        \n",
    "        #linear fucntion2 100->100\n",
    "        self.fc2=nn.Linear(hidden_dim,hidden_dim)\n",
    "        # non-linear function 2\n",
    "        self.tanh2=nn.Tanh()\n",
    "        \n",
    "        #linear function3 100->100\n",
    "        self.fc3 = nn.Linear(hidden_dim, hidden_dim)\n",
    "        # non-linear function 3\n",
    "        self.elu3=nn.ELU()\n",
    "        \n",
    "        #linear fucntion 4 for output 100->10\n",
    "        self.fc4=nn.Linear(hidden_dim,output_dim)\n",
    "        \n",
    "    def forward(self,x):\n",
    "        \n",
    "        # linear function 1\n",
    "        out= self.fc1(x)\n",
    "        # Non-linearity 1\n",
    "        out = self.relu1(out)\n",
    "        \n",
    "        # Linear function 2\n",
    "        out = self.fc2(out)\n",
    "        # Non-linearity 2\n",
    "        out = self.tanh2(out)\n",
    "        \n",
    "        # Linear function 2\n",
    "        out = self.fc3(out)\n",
    "        # Non-linearity 2\n",
    "        out = self.elu3(out)\n",
    "        \n",
    "        # Linear function 4 (readout)\n",
    "        out = self.fc4(out)\n",
    "        return out\n",
    "    "
   ]
  },
  {
   "cell_type": "code",
   "execution_count": 8,
   "metadata": {},
   "outputs": [],
   "source": [
    "# instantiate ANN\n",
    "input_dim = 28*28\n",
    "hidden_dim = 100 #hidden layer dim is one of the hyper parameter and it should be chosen and tuned. For now I only say 150 there is no reason.\n",
    "output_dim = 10"
   ]
  },
  {
   "cell_type": "code",
   "execution_count": 9,
   "metadata": {},
   "outputs": [],
   "source": [
    "# create ANN\n",
    "model = ANNModel(input_dim,hidden_dim,output_dim)\n",
    "\n",
    "# cross entropy loss\n",
    "error = nn.CrossEntropyLoss()\n",
    "\n",
    "# using SGD for optimizing the loss and updating the parameters\n",
    "learning_rate = 0.02\n",
    "optimizer = torch.optim.SGD(model.parameters(), lr=learning_rate)"
   ]
  },
  {
   "cell_type": "code",
   "execution_count": 10,
   "metadata": {},
   "outputs": [
    {
     "name": "stdout",
     "output_type": "stream",
     "text": [
      "Iteration: 500  Loss: 0.8642390370368958  Accuracy: 76 %\n",
      "Iteration: 1000  Loss: 0.4794046878814697  Accuracy: 87 %\n",
      "Iteration: 1500  Loss: 0.24563094973564148  Accuracy: 89 %\n",
      "Iteration: 2000  Loss: 0.3041223883628845  Accuracy: 90 %\n",
      "Iteration: 2500  Loss: 0.32838577032089233  Accuracy: 91 %\n",
      "Iteration: 3000  Loss: 0.1297874003648758  Accuracy: 92 %\n",
      "Iteration: 3500  Loss: 0.2521515190601349  Accuracy: 93 %\n",
      "Iteration: 4000  Loss: 0.0672285333275795  Accuracy: 93 %\n",
      "Iteration: 4500  Loss: 0.35440054535865784  Accuracy: 94 %\n",
      "Iteration: 5000  Loss: 0.09791462868452072  Accuracy: 94 %\n",
      "Iteration: 5500  Loss: 0.19028404355049133  Accuracy: 94 %\n",
      "Iteration: 6000  Loss: 0.19770461320877075  Accuracy: 94 %\n",
      "Iteration: 6500  Loss: 0.10331998765468597  Accuracy: 95 %\n",
      "Iteration: 7000  Loss: 0.11764448136091232  Accuracy: 95 %\n",
      "Iteration: 7500  Loss: 0.10762712359428406  Accuracy: 95 %\n",
      "Iteration: 8000  Loss: 0.18956775963306427  Accuracy: 95 %\n",
      "Iteration: 8500  Loss: 0.0670730322599411  Accuracy: 95 %\n",
      "Iteration: 9000  Loss: 0.05895842984318733  Accuracy: 96 %\n",
      "Iteration: 9500  Loss: 0.030201680958271027  Accuracy: 96 %\n"
     ]
    }
   ],
   "source": [
    "# ANN traing with training data set\n",
    "count = 0\n",
    "loss_list = []\n",
    "iteration_list = []\n",
    "accuracy_list = []\n",
    "\n",
    "for epoch in range(num_epochs):\n",
    "    for i, (images, labels) in enumerate(train_loader):\n",
    "        train = Variable(images.view(-1, 28*28))\n",
    "        labels = Variable(labels)\n",
    "        \n",
    "        # Clear gradients\n",
    "        optimizer.zero_grad()\n",
    "        \n",
    "        # Forward propagation\n",
    "        outputs = model(train)\n",
    "        \n",
    "        # Calculate softmax and ross entropy loss\n",
    "        loss = error(outputs, labels)\n",
    "        \n",
    "        # Calculating gradients\n",
    "        loss.backward()\n",
    "        \n",
    "        # Update parameters\n",
    "        optimizer.step()\n",
    "        \n",
    "        count += 1\n",
    "        \n",
    "        if count % 50 == 0:\n",
    "            # Calculate Accuracy         \n",
    "            correct = 0\n",
    "            total = 0\n",
    "            # Predict test dataset\n",
    "            for images, labels in test_loader:\n",
    "\n",
    "                test = Variable(images.view(-1, 28*28))\n",
    "                \n",
    "                # Forward propagation\n",
    "                outputs = model(test)\n",
    "                \n",
    "                # Get predictions from the maximum value\n",
    "                predicted = torch.max(outputs.data, 1)[1]\n",
    "                \n",
    "                # Total number of labels\n",
    "                total += len(labels)\n",
    "\n",
    "                # Total correct predictions\n",
    "                correct += (predicted == labels).sum()\n",
    "            \n",
    "            accuracy = 100 * correct / float(total)\n",
    "            \n",
    "            # store loss and iteration\n",
    "            loss_list.append(loss.data)\n",
    "            iteration_list.append(count)\n",
    "            accuracy_list.append(accuracy)\n",
    "            if count % 500 == 0:\n",
    "                # Print Loss\n",
    "                print('Iteration: {}  Loss: {}  Accuracy: {} %'.format(count, loss.data, accuracy))"
   ]
  },
  {
   "cell_type": "code",
   "execution_count": 11,
   "metadata": {},
   "outputs": [
    {
     "data": {
      "image/png": "[encoded data removed]",
      "text/plain": [
       "<Figure size 432x288 with 1 Axes>"
      ]
     },
     "metadata": {},
     "output_type": "display_data"
    }
   ],
   "source": [
    "# visulaizing the loss i.e iterations Vs loss\n",
    "plt.plot(iteration_list,loss_list)\n",
    "plt.xlabel(\"No. of iterations\")\n",
    "plt.ylabel(\"Loss\")\n",
    "plt.show()"
   ]
  },
  {
   "cell_type": "code",
   "execution_count": 12,
   "metadata": {},
   "outputs": [
    {
     "data": {
      "image/png": "[encoded data removed]",
      "text/plain": [
       "<Figure size 432x288 with 1 Axes>"
      ]
     },
     "metadata": {},
     "output_type": "display_data"
    }
   ],
   "source": [
    "# visulaizing iterations Vs accuracy\n",
    "plt.plot(iteration_list,accuracy_list,color = \"red\")\n",
    "plt.xlabel(\"Number of iteration\")\n",
    "plt.ylabel(\"Accuracy\")\n",
    "plt.show()\n"
   ]
  },
  {
   "cell_type": "code",
   "execution_count": null,
   "metadata": {},
   "outputs": [],
   "source": []
  }
 ],
 "metadata": {
  "kernelspec": {
   "display_name": "Python 3",
   "language": "python",
   "name": "python3"
  },
  "language_info": {
   "codemirror_mode": {
    "name": "ipython",
    "version": 3
   },
   "file_extension": ".py",
   "mimetype": "text/x-python",
   "name": "python",
   "nbconvert_exporter": "python",
   "pygments_lexer": "ipython3",
   "version": "3.6.5"
  }
 },
 "nbformat": 4,
 "nbformat_minor": 2
}
