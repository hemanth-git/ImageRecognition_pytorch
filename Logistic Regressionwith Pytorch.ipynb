{
 "cells": [
  {
   "cell_type": "code",
   "execution_count": 19,
   "metadata": {},
   "outputs": [],
   "source": [
    "import torch\n",
    "import torch.nn as nn\n",
    "import torchvision.transforms as transforms\n",
    "from torch.autograd import Variable\n",
    "import numpy as np\n",
    "import pandas as pd\n",
    "from sklearn.model_selection import train_test_split\n",
    "import matplotlib.pyplot as plt"
   ]
  },
  {
   "cell_type": "markdown",
   "metadata": {},
   "source": [
    "## Logistic Regression using pytorch\n",
    "linear regression + logistic function(softmax) = logistic regression\n",
    "\n",
    "### Steps for Logistic regression\n",
    "A. Preparing the Data set\n",
    "1. Import libraries\n",
    "2. We use MNIST dataset.\n",
    "3. There are 28*28 images and 10 labels from 0 to 9\n",
    "4. Data is not normalized so we divide each image to 255 that is basic normalization for images.\n",
    "5. use train_test_split method from sklearn library\n",
    "6. Create feature and target tensors\n",
    "7. epoch: 1 epoch means training all samples one time.\n",
    "8. batch_size = batch size means is that for example we have data and it includes 1000 sample. We can train 1000 sample in a     same time or we can divide it 10 groups which include 100 sample and train 10 groups in order. Batch size is the group size. For example, I choose batch_size = 100, that means in order to train all data only once we have 336 groups. We train each groups(336) that have batch_size(quota) 100. Finally we train 33600 sample one time.\n",
    "9. Therefore, 1 epoch(training data only once) takes 336 iteration\n",
    "10. TensorDataset(): Data set wrapping tensors. Each sample is retrieved by indexing tensors along the first dimension.\n",
    "11. DataLoader(): It combines dataset and sampler. It also provides multi process iterators over the dataset.\n",
    "\n",
    "B. Creating the Logistic model\n",
    "\n",
    "C. Instantiate Model class\n",
    "\n",
    "    input_dim = 28,28 # size of image px,px\n",
    "    output_dim = 10 # labels 0,1,2,3,4,5,6,7,8,9\n",
    "    create model\n",
    "\n",
    "D. Instantiate Loss class\n",
    "\n",
    "    Cross entropy loss\n",
    "    It calculates loss that is not surprise :)\n",
    "    It also has softmax(logistic function) in it.\n",
    "\n",
    "E. Instantiate optimizer class\n",
    "    SGD Optimizer\n",
    "\n",
    "F. Traning the Model\n",
    "\n",
    "G. Prediction"
   ]
  },
  {
   "cell_type": "code",
   "execution_count": 6,
   "metadata": {},
   "outputs": [],
   "source": [
    "# Prepare the dataset\n",
    "train=pd.read_csv(\"D:\\\\Data Science\\\\DeepLearning\\\\all\\\\train.csv\",dtype = np.float32)\n",
    "\n",
    "#splitting the data in to features(X) and labels(Y)\n",
    "\n",
    "targets_numpy = train.label.values\n",
    "features_numpy = train.loc[:,train.columns != \"label\"].values/255\n",
    "features_train, features_test, targets_train, targets_test = train_test_split(features_numpy,\n",
    "                                                                             targets_numpy,\n",
    "                                                                             test_size = 0.2,\n",
    "                                                                             random_state = 42) "
   ]
  },
  {
   "cell_type": "code",
   "execution_count": 16,
   "metadata": {},
   "outputs": [],
   "source": [
    "# converting the numpy data frame to features and target Tensors\n",
    "\n",
    "featuresTrain = torch.from_numpy(features_train)\n",
    "targetsTrain = torch.from_numpy(targets_train).type(torch.LongTensor) # data type is long\n",
    "\n",
    "# create feature and targets tensor for test set.\n",
    "featuresTest = torch.from_numpy(features_test)\n",
    "targetsTest = torch.from_numpy(targets_test).type(torch.LongTensor)"
   ]
  },
  {
   "cell_type": "code",
   "execution_count": 8,
   "metadata": {},
   "outputs": [],
   "source": [
    "# batch size and iterations\n",
    "batch_size = 100\n",
    "n_iters = 10000\n",
    "num_epochs = n_iters / (len(features_train) / batch_size)\n",
    "num_epochs = int(num_epochs)"
   ]
  },
  {
   "cell_type": "code",
   "execution_count": 13,
   "metadata": {},
   "outputs": [
    {
     "data": {
      "text/plain": [
       "(33600,\n",
       " (42000, 785),\n",
       " Index(['label', 'pixel0', 'pixel1', 'pixel2', 'pixel3', 'pixel4', 'pixel5',\n",
       "        'pixel6', 'pixel7', 'pixel8',\n",
       "        ...\n",
       "        'pixel774', 'pixel775', 'pixel776', 'pixel777', 'pixel778', 'pixel779',\n",
       "        'pixel780', 'pixel781', 'pixel782', 'pixel783'],\n",
       "       dtype='object', length=785))"
      ]
     },
     "execution_count": 13,
     "metadata": {},
     "output_type": "execute_result"
    }
   ],
   "source": [
    "len(features_train), train.shape, train.columns"
   ]
  },
  {
   "cell_type": "code",
   "execution_count": 37,
   "metadata": {},
   "outputs": [],
   "source": [
    "# Tensor Dataset and Tensor data loader\n",
    "\n",
    "train = torch.utils.data.TensorDataset(featuresTrain,targetsTrain)\n",
    "test = torch.utils.data.TensorDataset(featuresTest,targetsTest)\n",
    "\n",
    "# data loader\n",
    "train_loader = torch.utils.data.DataLoader(train, batch_size = batch_size, shuffle = False)\n",
    "test_loader = torch.utils.data.DataLoader(test, batch_size = batch_size, shuffle = False)"
   ]
  },
  {
   "cell_type": "code",
   "execution_count": 23,
   "metadata": {},
   "outputs": [
    {
     "data": {
      "image/png": "[encoded data removed]",
      "text/plain": [
       "<Figure size 432x288 with 1 Axes>"
      ]
     },
     "metadata": {},
     "output_type": "display_data"
    }
   ],
   "source": [
    "# sample visualization of single data point\n",
    "# using numpy data point\n",
    "plt.imshow(features_numpy[11].reshape(28,28))\n",
    "plt.axis(\"off\")\n",
    "plt.show()"
   ]
  },
  {
   "cell_type": "code",
   "execution_count": 24,
   "metadata": {},
   "outputs": [
    {
     "name": "stderr",
     "output_type": "stream",
     "text": [
      "C:\\Users\\hemanth\\Anaconda3\\lib\\site-packages\\torch\\tensor.py:287: UserWarning: non-inplace resize is deprecated\n",
      "  warnings.warn(\"non-inplace resize is deprecated\")\n"
     ]
    },
    {
     "data": {
      "image/png": "[encoded data removed]",
      "text/plain": [
       "<Figure size 432x288 with 1 Axes>"
      ]
     },
     "metadata": {},
     "output_type": "display_data"
    }
   ],
   "source": [
    "# using the Tensor featuresTrain to visualise the data point\n",
    "plt.imshow(featuresTrain[11].resize(28,28))\n",
    "plt.show()"
   ]
  },
  {
   "cell_type": "markdown",
   "metadata": {},
   "source": [
    "## Creating a Logistic model\n"
   ]
  },
  {
   "cell_type": "code",
   "execution_count": 38,
   "metadata": {},
   "outputs": [],
   "source": [
    "class LogisticRegressionModel(nn.Module):\n",
    "    \n",
    "    def __init__(self,input_dim,output_dim):\n",
    "        super(LogisticRegressionModel,self).__init__()\n",
    "        self.linear = nn.Linear(input_dim,output_dim)\n",
    "        # Logistic function is implemented at loss function or inbulit so will implement there\n",
    "    def forward(self,x):\n",
    "        out=self.linear(x)\n",
    "        return out"
   ]
  },
  {
   "cell_type": "code",
   "execution_count": 39,
   "metadata": {},
   "outputs": [],
   "source": [
    "input_dim=28*28\n",
    "output_dim=10"
   ]
  },
  {
   "cell_type": "code",
   "execution_count": 40,
   "metadata": {},
   "outputs": [],
   "source": [
    "# Create a logistic regression model\n",
    "model= LogisticRegressionModel(input_dim,output_dim)\n",
    "error= nn.CrossEntropyLoss()\n",
    "\n",
    "learning_rate=0.001\n",
    "optimizer = torch.optim.SGD(model.parameters(),lr=learning_rate)"
   ]
  },
  {
   "cell_type": "code",
   "execution_count": 42,
   "metadata": {},
   "outputs": [
    {
     "name": "stdout",
     "output_type": "stream",
     "text": [
      "Iteration: 500  Loss: 1.822788953781128  Accuracy: 67%\n",
      "Iteration: 1000  Loss: 1.592555284500122  Accuracy: 74%\n",
      "Iteration: 1500  Loss: 1.2994662523269653  Accuracy: 78%\n",
      "Iteration: 2000  Loss: 1.2022182941436768  Accuracy: 79%\n",
      "Iteration: 2500  Loss: 1.0183779001235962  Accuracy: 81%\n",
      "Iteration: 3000  Loss: 0.9255053997039795  Accuracy: 81%\n",
      "Iteration: 3500  Loss: 0.8991302251815796  Accuracy: 82%\n",
      "Iteration: 4000  Loss: 0.7588906288146973  Accuracy: 83%\n",
      "Iteration: 4500  Loss: 0.9758384823799133  Accuracy: 83%\n",
      "Iteration: 5000  Loss: 0.7925894856452942  Accuracy: 84%\n",
      "Iteration: 5500  Loss: 0.7547786831855774  Accuracy: 84%\n",
      "Iteration: 6000  Loss: 0.8685271739959717  Accuracy: 84%\n",
      "Iteration: 6500  Loss: 0.6683892607688904  Accuracy: 84%\n",
      "Iteration: 7000  Loss: 0.7118467688560486  Accuracy: 85%\n",
      "Iteration: 7500  Loss: 0.6340833306312561  Accuracy: 85%\n",
      "Iteration: 8000  Loss: 0.7346197366714478  Accuracy: 85%\n",
      "Iteration: 8500  Loss: 0.5471299886703491  Accuracy: 85%\n",
      "Iteration: 9000  Loss: 0.6577434539794922  Accuracy: 85%\n",
      "Iteration: 9500  Loss: 0.5217925906181335  Accuracy: 85%\n"
     ]
    }
   ],
   "source": [
    "# Traning the Model\n",
    "count = 0\n",
    "loss_list = []\n",
    "iteration_list = []\n",
    "for epoch in range(num_epochs):\n",
    "    for i, (images, labels) in enumerate(train_loader):\n",
    "        \n",
    "        # Define variables\n",
    "        train = Variable(images.view(-1, 28*28))\n",
    "        labels = Variable(labels)\n",
    "        \n",
    "        # Clear gradients\n",
    "        optimizer.zero_grad()\n",
    "        \n",
    "        # Forward propagation\n",
    "        outputs = model(train)\n",
    "        \n",
    "        # Calculate softmax and cross entropy loss\n",
    "        loss = error(outputs, labels)\n",
    "        \n",
    "        # Calculate gradients\n",
    "        loss.backward()\n",
    "        \n",
    "        # Update parameters\n",
    "        optimizer.step()\n",
    "        \n",
    "        count += 1\n",
    "        \n",
    "        # Prediction\n",
    "        if count % 50 == 0:\n",
    "            # Calculate Accuracy         \n",
    "            correct = 0\n",
    "            total = 0\n",
    "            # Predict test dataset\n",
    "            for images, labels in test_loader: \n",
    "                test = Variable(images.view(-1, 28*28))\n",
    "                \n",
    "                # Forward propagation\n",
    "                outputs = model(test)\n",
    "                \n",
    "                # Get predictions from the maximum value\n",
    "                predicted = torch.max(outputs.data, 1)[1]\n",
    "                \n",
    "                # Total number of labels\n",
    "                total += len(labels)\n",
    "                \n",
    "                # Total correct predictions\n",
    "                correct += (predicted == labels).sum()\n",
    "            \n",
    "            accuracy = 100 * correct / float(total)\n",
    "            \n",
    "            # store loss and iteration\n",
    "            loss_list.append(loss.data)\n",
    "            iteration_list.append(count)\n",
    "        if count % 500 == 0:\n",
    "            # Print Loss\n",
    "            print('Iteration: {}  Loss: {}  Accuracy: {}%'.format(count, loss.data, accuracy))"
   ]
  },
  {
   "cell_type": "markdown",
   "metadata": {},
   "source": [
    "## testing the model with Test data set \n",
    "\n",
    "#### before proceding with test we need to normalize and prepare the data set"
   ]
  },
  {
   "cell_type": "code",
   "execution_count": 51,
   "metadata": {},
   "outputs": [],
   "source": [
    "# Prepare the dataset\n",
    "testsample=pd.read_csv(\"D:\\\\Data Science\\\\DeepLearning\\\\all\\\\test.csv\",dtype = np.float32)\n"
   ]
  },
  {
   "cell_type": "code",
   "execution_count": 52,
   "metadata": {},
   "outputs": [
    {
     "data": {
      "text/plain": [
       "(28000, 784)"
      ]
     },
     "execution_count": 52,
     "metadata": {},
     "output_type": "execute_result"
    }
   ],
   "source": [
    "testsample.shape"
   ]
  },
  {
   "cell_type": "code",
   "execution_count": 54,
   "metadata": {},
   "outputs": [],
   "source": [
    "\n",
    "#splitting the data in to features(X) and labels(Y)\n",
    "\n",
    "features_numpy_test = testsample.loc[:,train.columns != \"label\"].values/255"
   ]
  },
  {
   "cell_type": "code",
   "execution_count": 55,
   "metadata": {},
   "outputs": [],
   "source": [
    "# numpy to Tensor\n",
    "\n",
    "features_tensor_test = torch.from_numpy(features_numpy_test)"
   ]
  },
  {
   "cell_type": "code",
   "execution_count": 57,
   "metadata": {},
   "outputs": [],
   "source": [
    "output_test = model(features_tensor_test)"
   ]
  },
  {
   "cell_type": "code",
   "execution_count": 59,
   "metadata": {},
   "outputs": [],
   "source": [
    "predicted_test = torch.max(output_test.data, 1)[1]"
   ]
  },
  {
   "cell_type": "code",
   "execution_count": 67,
   "metadata": {},
   "outputs": [],
   "source": [
    "numpy_predicted=predicted_test.numpy()"
   ]
  },
  {
   "cell_type": "code",
   "execution_count": 114,
   "metadata": {
    "scrolled": true
   },
   "outputs": [],
   "source": [
    "df=pd.DataFrame(numpy_predicted)"
   ]
  },
  {
   "cell_type": "code",
   "execution_count": 115,
   "metadata": {},
   "outputs": [
    {
     "data": {
      "text/plain": [
       "torch.Size([28000])"
      ]
     },
     "execution_count": 115,
     "metadata": {},
     "output_type": "execute_result"
    }
   ],
   "source": [
    "predicted_test.shape"
   ]
  },
  {
   "cell_type": "code",
   "execution_count": 116,
   "metadata": {},
   "outputs": [],
   "source": [
    "df.rename(columns = {0:'Label'}, inplace = True)"
   ]
  },
  {
   "cell_type": "code",
   "execution_count": 120,
   "metadata": {},
   "outputs": [],
   "source": [
    "a=np.arange(1,28001)"
   ]
  },
  {
   "cell_type": "code",
   "execution_count": 121,
   "metadata": {},
   "outputs": [],
   "source": [
    "df2=pd.DataFrame(a)"
   ]
  },
  {
   "cell_type": "code",
   "execution_count": 126,
   "metadata": {},
   "outputs": [],
   "source": [
    "df2=df2.rename(columns={0:'ImageId'})"
   ]
  },
  {
   "cell_type": "code",
   "execution_count": 124,
   "metadata": {},
   "outputs": [],
   "source": [
    "df2['Label']=pd.Series(df['Label'])"
   ]
  },
  {
   "cell_type": "code",
   "execution_count": 132,
   "metadata": {},
   "outputs": [],
   "source": [
    "df2.to_csv(\"Submission_format.csv\",index=False)"
   ]
  },
  {
   "cell_type": "code",
   "execution_count": null,
   "metadata": {},
   "outputs": [],
   "source": []
  }
 ],
 "metadata": {
  "kernelspec": {
   "display_name": "Python 3",
   "language": "python",
   "name": "python3"
  },
  "language_info": {
   "codemirror_mode": {
    "name": "ipython",
    "version": 3
   },
   "file_extension": ".py",
   "mimetype": "text/x-python",
   "name": "python",
   "nbconvert_exporter": "python",
   "pygments_lexer": "ipython3",
   "version": "3.6.5"
  }
 },
 "nbformat": 4,
 "nbformat_minor": 2
}
